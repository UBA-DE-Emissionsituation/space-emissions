{
 "cells": [
  {
   "cell_type": "code",
   "execution_count": null,
   "metadata": {},
   "outputs": [],
   "source": [
    "# Requirements for this notebook to run: pandas, shapely, pyproj\n",
    "import concurrent.futures\n",
    "import time\n",
    "import json\n",
    "\n",
    "import pandas\n",
    "from shapely.geometry import shape\n",
    "\n",
    "from eocalc.context import Pollutant\n",
    "from eocalc.methods.base import DateRange\n",
    "from eocalc.methods.dummy import DummyEOEmissionCalculator\n",
    "from eocalc.methods.fluky import RandomEOEmissionCalculator"
   ]
  },
  {
   "cell_type": "markdown",
   "metadata": {},
   "source": [
    "# 1. Provide inputs"
   ]
  },
  {
   "cell_type": "code",
   "execution_count": null,
   "metadata": {},
   "outputs": [],
   "source": [
    "with (open(\"data/regions/germany.geo.json\", 'r')) as geojson_file:\n",
    "    region = shape(json.load(geojson_file)[\"geometry\"])\n",
    "periods = [DateRange(start='2019-01-01', end='2019-12-31'),\n",
    "          DateRange(start='2020-01-01', end='2020-12-31'),\n",
    "          DateRange(start='2021-01-01', end='2021-12-31')]\n",
    "methods = [DummyEOEmissionCalculator, RandomEOEmissionCalculator]\n",
    "pollutants = [Pollutant.NOx, Pollutant.SO2, Pollutant.NH3]"
   ]
  },
  {
   "cell_type": "code",
   "execution_count": null,
   "metadata": {},
   "outputs": [],
   "source": [
    "results = {} # results will be put here as results[<method>][<period index>][<pollutant>][<data>]"
   ]
  },
  {
   "cell_type": "markdown",
   "metadata": {},
   "source": [
    "# 2. Check inputs\n",
    "See wiki"
   ]
  },
  {
   "cell_type": "markdown",
   "metadata": {},
   "source": [
    "# 3. Run methods"
   ]
  },
  {
   "cell_type": "code",
   "execution_count": null,
   "metadata": {},
   "outputs": [],
   "source": [
    "for index, period in enumerate(periods):\n",
    "    print(f\"Processing period from {period.start} to {period.end} ({(period.end-period.start).days} days)\")\n",
    "    for method in methods:\n",
    "        results.setdefault(method, {})\n",
    "        for pollutant in pollutants:\n",
    "            if method.supports(pollutant):\n",
    "                print(f\"Deriving {pollutant} emissions for given region using method {method.__name__}\")\n",
    "                results[method].setdefault(index, {})\n",
    "                calculator = method()\n",
    "                print(f\"{calculator.state} at {calculator.progress}%\")\n",
    "                with concurrent.futures.ThreadPoolExecutor() as executor:\n",
    "                    future = executor.submit(calculator.run, region, period, pollutant)\n",
    "                    while not future.done():\n",
    "                        print(f\"{calculator.state} at {calculator.progress}%\")\n",
    "                        time.sleep(1)\n",
    "                    print(f\"{calculator.state}\")\n",
    "                    results[method][index][pollutant] = future.result()"
   ]
  },
  {
   "cell_type": "markdown",
   "metadata": {},
   "source": [
    "# 4. Display results"
   ]
  },
  {
   "cell_type": "code",
   "execution_count": null,
   "metadata": {},
   "outputs": [],
   "source": [
    "results[DummyEOEmissionCalculator][0][Pollutant.NOx]"
   ]
  },
  {
   "cell_type": "code",
   "execution_count": null,
   "metadata": {},
   "outputs": [],
   "source": [
    "results[RandomEOEmissionCalculator][1][Pollutant.SO2]['totals']"
   ]
  },
  {
   "cell_type": "code",
   "execution_count": null,
   "metadata": {},
   "outputs": [],
   "source": [
    "results[RandomEOEmissionCalculator][1][Pollutant.SO2]['grid']"
   ]
  },
  {
   "cell_type": "code",
   "execution_count": null,
   "metadata": {},
   "outputs": [],
   "source": [
    "results[RandomEOEmissionCalculator][1][Pollutant.SO2]['grid'].plot(\"SO2 [kt]\", legend=True, figsize=(15, 15), alpha=0.6, edgecolor='k')"
   ]
  }
 ],
 "metadata": {
  "kernelspec": {
   "display_name": "Python 3",
   "language": "python",
   "name": "python3"
  },
  "language_info": {
   "codemirror_mode": {
    "name": "ipython",
    "version": 3
   },
   "file_extension": ".py",
   "mimetype": "text/x-python",
   "name": "python",
   "nbconvert_exporter": "python",
   "pygments_lexer": "ipython3",
   "version": "3.7.6"
  }
 },
 "nbformat": 4,
 "nbformat_minor": 4
}
