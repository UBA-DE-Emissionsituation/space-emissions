{
 "cells": [
  {
   "cell_type": "code",
   "execution_count": null,
   "metadata": {},
   "outputs": [],
   "source": [
    "from datetime import datetime"
   ]
  },
  {
   "cell_type": "markdown",
   "metadata": {},
   "source": [
    "# 1. Provide inputs"
   ]
  },
  {
   "cell_type": "code",
   "execution_count": null,
   "metadata": {},
   "outputs": [],
   "source": [
    "region = 'shapes/germany.geo.json'\n",
    "periods = [['2019-01-01', '2019-12-31'], ['2020-01-01', '2020-12-31'], ['2021-01-01', '2021-12-31']]\n",
    "methods = ['Beirle']\n",
    "pollutants = ['NOx', 'SO2', 'NH3']"
   ]
  },
  {
   "cell_type": "code",
   "execution_count": null,
   "metadata": {},
   "outputs": [],
   "source": [
    "results = {} # results will be put here as results[<method>][<period index>][<pollutant>][<data>]"
   ]
  },
  {
   "cell_type": "markdown",
   "metadata": {},
   "source": [
    "# 2. Check inputs\n",
    "See wiki"
   ]
  },
  {
   "cell_type": "markdown",
   "metadata": {},
   "source": [
    "# 3. Run methods"
   ]
  },
  {
   "cell_type": "code",
   "execution_count": null,
   "metadata": {},
   "outputs": [],
   "source": [
    "for index, period in enumerate(periods):\n",
    "    start = datetime.strptime(period[0], \"%Y-%m-%d\")\n",
    "    end = datetime.strptime(period[1], \"%Y-%m-%d\")\n",
    "    print(f'Processing period from {start:%B %d, %Y} to {end:%B %d, %Y} ({(end-start).days} days)')\n",
    "    for method in methods:\n",
    "        results.setdefault(method, {})\n",
    "        for pollutant in pollutants:\n",
    "            print(f'Deriving {pollutant} emissions for {region} and {period} using method {method}')\n",
    "            results[method].setdefault(index, {})\n",
    "            results[method][index][pollutant] = 42"
   ]
  },
  {
   "cell_type": "markdown",
   "metadata": {},
   "source": [
    "# 4. Display results"
   ]
  },
  {
   "cell_type": "code",
   "execution_count": null,
   "metadata": {},
   "outputs": [],
   "source": [
    "results"
   ]
  }
 ],
 "metadata": {
  "kernelspec": {
   "display_name": "Python 3",
   "language": "python",
   "name": "python3"
  },
  "language_info": {
   "codemirror_mode": {
    "name": "ipython",
    "version": 3
   },
   "file_extension": ".py",
   "mimetype": "text/x-python",
   "name": "python",
   "nbconvert_exporter": "python",
   "pygments_lexer": "ipython3",
   "version": "3.8.5"
  }
 },
 "nbformat": 4,
 "nbformat_minor": 4
}
