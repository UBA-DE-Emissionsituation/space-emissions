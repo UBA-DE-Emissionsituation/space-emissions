{
 "cells": [
  {
   "cell_type": "code",
   "execution_count": null,
   "metadata": {},
   "outputs": [],
   "source": [
    "import pandas\n",
    "\n",
    "from eocalc.context import Pollutant\n",
    "from eocalc.methods.dummy import DummyEOEmissionCalculator\n",
    "from eocalc.methods.random import RandomEOEmissionCalculator"
   ]
  },
  {
   "cell_type": "markdown",
   "metadata": {},
   "source": [
    "# 1. Provide inputs"
   ]
  },
  {
   "cell_type": "code",
   "execution_count": null,
   "metadata": {},
   "outputs": [],
   "source": [
    "region = 'shapes/germany.geo.json'\n",
    "periods = [pandas.date_range(start='2019-01-01', end='2019-12-31', freq='D', closed=None),\n",
    "          pandas.date_range(start='2020-01-01', end='2020-12-31', freq='D', closed=None),\n",
    "          pandas.date_range(start='2021-01-01', end='2021-12-31', freq='D', closed=None)]\n",
    "methods = [DummyEOEmissionCalculator, RandomEOEmissionCalculator]\n",
    "pollutants = [Pollutant.NOx, Pollutant.SO2, Pollutant.NH3]"
   ]
  },
  {
   "cell_type": "code",
   "execution_count": null,
   "metadata": {},
   "outputs": [],
   "source": [
    "results = {} # results will be put here as results[<method>][<period index>][<pollutant>][<data>]"
   ]
  },
  {
   "cell_type": "markdown",
   "metadata": {},
   "source": [
    "# 2. Check inputs\n",
    "See wiki"
   ]
  },
  {
   "cell_type": "markdown",
   "metadata": {},
   "source": [
    "# 3. Run methods"
   ]
  },
  {
   "cell_type": "code",
   "execution_count": null,
   "metadata": {},
   "outputs": [],
   "source": [
    "for index, period in enumerate(periods):\n",
    "    print(f\"Processing period from {period[0]} to {period[-1]} ({len(period)} days)\")\n",
    "    for method in methods:\n",
    "        results.setdefault(method, {})\n",
    "        for pollutant in pollutants:\n",
    "            if method().supports(pollutant):\n",
    "                print(f\"Deriving {pollutant} emissions for {region} using method {method}\")\n",
    "                results[method].setdefault(index, {})\n",
    "                results[method][index][pollutant] = method().run(region, period, pollutant)"
   ]
  },
  {
   "cell_type": "markdown",
   "metadata": {},
   "source": [
    "# 4. Display results"
   ]
  },
  {
   "cell_type": "code",
   "execution_count": null,
   "metadata": {},
   "outputs": [],
   "source": [
    "results[DummyEOEmissionCalculator][0][Pollutant.NOx]"
   ]
  },
  {
   "cell_type": "code",
   "execution_count": null,
   "metadata": {},
   "outputs": [],
   "source": [
    "results[RandomEOEmissionCalculator][1][Pollutant.SO2]['totals']"
   ]
  },
  {
   "cell_type": "code",
   "execution_count": null,
   "metadata": {},
   "outputs": [],
   "source": [
    "results[RandomEOEmissionCalculator][2][Pollutant.NH3]['grid']"
   ]
  }
 ],
 "metadata": {
  "kernelspec": {
   "display_name": "Python 3",
   "language": "python",
   "name": "python3"
  },
  "language_info": {
   "codemirror_mode": {
    "name": "ipython",
    "version": 3
   },
   "file_extension": ".py",
   "mimetype": "text/x-python",
   "name": "python",
   "nbconvert_exporter": "python",
   "pygments_lexer": "ipython3",
   "version": "3.8.5"
  }
 },
 "nbformat": 4,
 "nbformat_minor": 4
}
