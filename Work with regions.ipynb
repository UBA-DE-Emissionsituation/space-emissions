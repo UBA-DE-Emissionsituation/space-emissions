{
 "cells": [
  {
   "cell_type": "code",
   "execution_count": null,
   "metadata": {},
   "outputs": [],
   "source": [
    "import geopandas # Run 'pip install geopandas' on the command line, if import fails\n",
    "import contextily as ctx # Run 'pip install contextily' on the command line, if import fails\n",
    "\n",
    "germany = geopandas.read_file('regions/germany.geo.json')\n",
    "portugal = geopandas.read_file('regions/portugal_envelope.geo.json')\n",
    "saxonia = geopandas.read_file('regions/roughly_saxonia.geo.json')"
   ]
  },
  {
   "cell_type": "code",
   "execution_count": null,
   "metadata": {},
   "outputs": [],
   "source": [
    "ctx.add_basemap(germany.to_crs(epsg=3857).plot(figsize=(10, 10), alpha=0.3, edgecolor='k'))"
   ]
  },
  {
   "cell_type": "code",
   "execution_count": null,
   "metadata": {},
   "outputs": [],
   "source": [
    "ctx.add_basemap(portugal.to_crs(epsg=3857).plot(figsize=(10, 10), alpha=0.3, edgecolor='k'))"
   ]
  },
  {
   "cell_type": "code",
   "execution_count": null,
   "metadata": {},
   "outputs": [],
   "source": [
    "ctx.add_basemap(saxonia.to_crs(epsg=3857).plot(figsize=(10, 10), alpha=0.3, edgecolor='k'))"
   ]
  },
  {
   "cell_type": "code",
   "execution_count": null,
   "metadata": {},
   "outputs": [],
   "source": [
    "f\"Area of Germany approx: {germany.to_crs(epsg=5243).area[0] / 10**6:.1f} km²\""
   ]
  },
  {
   "cell_type": "code",
   "execution_count": null,
   "metadata": {},
   "outputs": [],
   "source": [
    "# Collection of Polygons (rectangles) to be put in GeoPandas data frame\n",
    "collection = {\n",
    "    \"type\": \"FeatureCollection\",\n",
    "    \"features\": []\n",
    "}\n",
    "bin_width = 0.125 # degrees (defined by TEMIS)\n",
    "\n",
    "# Fill the collection\n",
    "with open(\"data/temis/no2_201808_clipped.asc\") as data:\n",
    "    lat = 0\n",
    "    offset = -72 # Stay with me here, the data is structured that way, we need to go from -180° to +180°, offset is moving from -72 (-180/2.5) to 72 (180/2.5) for each latitude\n",
    "    for line in data:\n",
    "        if line.startswith(\"lat=\"):\n",
    "            lat = float(line.split(\"=\")[1]) - bin_width / 2\n",
    "            offset = -72\n",
    "        elif line.startswith('-') or line[0:4].strip().isdigit():\n",
    "            count = 0 # There are twenty numbers per line, we need to keep track where we are\n",
    "            for long in [x * 0.125 + (offset * 2.5) for x in range(0, 20)]:\n",
    "                emission = int(line[count*4:count*4+4]) # All emission values are four digits wide\n",
    "                if emission >= 0:\n",
    "                    collection[\"features\"].append({\n",
    "                        \"type\": \"Feature\",\n",
    "                        \"properties\": {\"emission [1e13 molecules/cm²]\": emission},\n",
    "                        \"geometry\": {\"type\": \"Polygon\", \"coordinates\": [[(long, lat), (long + bin_width, lat), (long + bin_width, lat + bin_width), (long, lat + bin_width), (long, lat)]]},\n",
    "                    })\n",
    "                count += 1\n",
    "            offset += 1\n",
    "\n",
    "# Create dataframe and clip to Germany\n",
    "no2 = geopandas.GeoDataFrame.from_features(collection, crs=\"EPSG:4326\")"
   ]
  },
  {
   "cell_type": "code",
   "execution_count": null,
   "metadata": {},
   "outputs": [],
   "source": [
    "ger_no2 = no2.cx[germany.total_bounds[0]:germany.total_bounds[2], germany.total_bounds[1]:germany.total_bounds[3]] # This is probably not really needed\n",
    "ger_no2 = geopandas.overlay(ger_no2, germany, how='intersection')\n",
    "\n",
    "# Draw this! And compare to https://www.temis.nl/airpollution/no2col/no2month_tropomi.php?Region=1&Year=2018&Month=08\n",
    "ctx.add_basemap(ger_no2.to_crs(epsg=3857).plot(\"emission [1e13 molecules/cm²]\", legend=True, figsize=(20, 20), alpha=0.6, edgecolor='k'))"
   ]
  },
  {
   "cell_type": "code",
   "execution_count": null,
   "metadata": {},
   "outputs": [],
   "source": [
    "ger_no2[\"area [m²]\"] = ger_no2.to_crs(epsg=5243).area\n",
    "ger_no2[\"area [km²]\"] = ger_no2[\"area [m²]\"] / 10**6\n",
    "ger_no2[\"area [cm²]\"] = ger_no2[\"area [m²]\"] * 10**4\n",
    "ger_no2[\"emission [molecules]\"] = ger_no2[\"emission [1e13 molecules/cm²]\"] * ger_no2[\"area [cm²]\"] * 10**13\n",
    "ger_no2[\"emission [kg]\"] = (ger_no2[\"emission [molecules]\"] / (6.022 * 10**23)) * 46.01 / 1000\n",
    "ger_no2"
   ]
  },
  {
   "cell_type": "code",
   "execution_count": null,
   "metadata": {},
   "outputs": [],
   "source": [
    "dailyNo2 = ger_no2[\"emission [kg]\"].sum() / 10**3\n",
    "f\"This computes to {dailyNo2:.1f}t of NO2 per day or {dailyNo2*31/10**3:.1f}kt for the month of August 2018.\""
   ]
  }
 ],
 "metadata": {
  "kernelspec": {
   "display_name": "Python 3",
   "language": "python",
   "name": "python3"
  },
  "language_info": {
   "codemirror_mode": {
    "name": "ipython",
    "version": 3
   },
   "file_extension": ".py",
   "mimetype": "text/x-python",
   "name": "python",
   "nbconvert_exporter": "python",
   "pygments_lexer": "ipython3",
   "version": "3.7.6"
  }
 },
 "nbformat": 4,
 "nbformat_minor": 4
}
