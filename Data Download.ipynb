{
 "cells": [
  {
   "cell_type": "code",
   "execution_count": null,
   "source": [
    "import os \n",
    "import datetime\n",
    "from eocalc.methods.base import DateRange\n",
    "from eocalc.context import Pollutant\n",
    "from  eocalc.tools.download import *\n",
    "\n",
    "# pressure levels for the ERA5 download\n",
    "levels = [\"1000\",\"950\",\"900\",\"850\",\"800\",\"750\",\"700\"]\n",
    "#make a download every hour\n",
    "times= []\n",
    "for h in range(24): \n",
    "  times.append(\"%02d:00\"%h)\n",
    "\n",
    "#create DateRange objects for the download period \n",
    "yesterday = datetime.date.today()- datetime.timedelta(days=1)\n",
    "tendaysago = datetime.date.today()- datetime.timedelta(days=10)\n",
    "\n",
    "period = DateRange(end=yesterday.isoformat(), start=\"2016-01-02\")\n",
    "period_yesterday = DateRange(yesterday.isoformat(),yesterday.isoformat())\n",
    "period_1d = DateRange(end=\"2016-01-03\", start=\"2016-01-02\")\n",
    "\n",
    "#directory where data is stored\n",
    "data_path = os.path.join(os.getcwd(),\"data\",\"download\")\n"
   ],
   "outputs": [],
   "metadata": {}
  },
  {
   "cell_type": "markdown",
   "source": [],
   "metadata": {}
  },
  {
   "cell_type": "code",
   "execution_count": null,
   "source": [
    "#directory where the ERA data should be stored\n",
    "era_path =  os.path.join(data_path, \"era\")\n",
    "\n",
    "#do the download. Don't replace already downloaded files\n",
    "era5_download(period = period_1d, data_dir =  era_path, levels =levels, times = times, replace=False)\n"
   ],
   "outputs": [],
   "metadata": {}
  },
  {
   "cell_type": "code",
   "execution_count": null,
   "source": [
    "#directory where the tropomi data should be stored\n",
    "s5p_path =  os.path.join(data_path, \"s5p\")\n",
    "\n",
    "#try and download tropomi data for a 10 day period\n",
    "period_10d = DateRange(end = yesterday.isoformat(),start = tendaysago.isoformat())\n",
    "satellite_download(period = period_10d, data_dir = s5p_path, species = Pollutant.NO2, producttype = \"L2__NO2___\", geojson_path = None, satellite = \"s5p\",replace =False)\n"
   ],
   "outputs": [],
   "metadata": {}
  }
 ],
 "metadata": {
  "interpreter": {
   "hash": "14fdb82863785c401210ac4aa5b7d451382dbce502f168e39c8d7990f68212c4"
  },
  "kernelspec": {
   "name": "python3",
   "display_name": "Python 3.9.4 64-bit (conda)"
  },
  "language_info": {
   "codemirror_mode": {
    "name": "ipython",
    "version": 3
   },
   "file_extension": ".py",
   "mimetype": "text/x-python",
   "name": "python",
   "nbconvert_exporter": "python",
   "pygments_lexer": "ipython3",
   "version": "3.9.4"
  },
  "orig_nbformat": 2
 },
 "nbformat": 4,
 "nbformat_minor": 2
}