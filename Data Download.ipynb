{
 "cells": [
  {
   "cell_type": "code",
   "execution_count": null,
   "metadata": {},
   "outputs": [],
   "source": [
    "\n",
    "# %% import modules and tools\n",
    "import os \n",
    "import datetime\n",
    "from eocalc.methods.base import DateRange\n",
    "from eocalc.context import Pollutant\n",
    "from  eocalc.tools.downloadtools import era5_download, tropomi_download\n",
    "\n",
    "#change to right directory\n",
    "os.chdir(\"/home/janot/space-emissions/\")\n",
    "# pressure levels for the ERA5 download\n",
    "levels = ['1000','950','900','850','800','750','700']\n",
    "#make a download every hour\n",
    "times= []\n",
    "for h in range(24): \n",
    "  times.append(\"%02d:00\"%h)\n",
    "\n",
    "#create DateRange object for the download period \n",
    "yesterday = datetime.date.today()- datetime.timedelta(days=1)\n",
    "tendaysago = datetime.date.today()- datetime.timedelta(days=10)\n",
    "\n",
    "period = DateRange(end=yesterday.isoformat(), start=\"2016-01-02\")\n",
    "period_yesterday = DateRange(yesterday.isoformat(),yesterday.isoformat())\n",
    "period_1d = DateRange(end=\"2016-01-03\", start=\"2016-01-02\")\n"
   ]
  },
  {
   "cell_type": "markdown",
   "metadata": {},
   "source": []
  },
  {
   "cell_type": "code",
   "execution_count": null,
   "metadata": {},
   "outputs": [],
   "source": [
    "#do the download. Don't replace already downloaded files\n",
    "era5_download(period = period_1d, data_dir =  \"/media/uba_emis/space_emissions/enrico/ERA5/\", levels =levels, times = times, replace=False, makelog =True)\n"
   ]
  },
  {
   "cell_type": "code",
   "execution_count": null,
   "metadata": {},
   "outputs": [],
   "source": [
    "#try and download tropomi data for a 10 day period\n",
    "period_10d = DateRange(end = yesterday.isoformat(),start = tendaysago.isoformat())\n",
    "tropomi_download(period = period_10d, data_dir = '/media/uba_emis/space_emissions/janot/sentinel', species = Pollutant.NO2, producttype = 'L2__NO2___', geojson_path = None, satellite = 's5p',user = 'janottokaya', password = 'C0P3Rnicus',replace =False)\n"
   ]
  }
 ],
 "metadata": {
  "interpreter": {
   "hash": "14fdb82863785c401210ac4aa5b7d451382dbce502f168e39c8d7990f68212c4"
  },
  "kernelspec": {
   "display_name": "Python 3.9.4 64-bit (conda)",
   "name": "python3"
  },
  "language_info": {
   "codemirror_mode": {
    "name": "ipython",
    "version": 3
   },
   "file_extension": ".py",
   "mimetype": "text/x-python",
   "name": "python",
   "nbconvert_exporter": "python",
   "pygments_lexer": "ipython3",
   "version": "3.9.4"
  },
  "orig_nbformat": 2
 },
 "nbformat": 4,
 "nbformat_minor": 2
}