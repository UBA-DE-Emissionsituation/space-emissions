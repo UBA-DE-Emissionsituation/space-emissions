{
 "cells": [
  {
   "cell_type": "code",
   "execution_count": null,
   "metadata": {},
   "outputs": [],
   "source": [
    "# Requirements for this notebook to run: pandas, geopandas, shapely, pyproj\n",
    "import concurrent.futures\n",
    "import os\n",
    "import time\n",
    "import json\n",
    "\n",
    "import pandas\n",
    "import geopandas\n",
    "from shapely.geometry import shape\n",
    "import contextily as ctx\n",
    "\n",
    "from eocalc.context import Pollutant\n",
    "from eocalc.methods.base import DateRange\n",
    "from eocalc.methods.temis import TEMISTropomiMonthlyMeanNOxEmissionCalculator"
   ]
  },
  {
   "cell_type": "code",
   "execution_count": null,
   "metadata": {},
   "outputs": [],
   "source": [
    "directory = \"data/regions\"\n",
    "regions = {}\n",
    "\n",
    "for filename in os.listdir(directory):\n",
    "    if filename.endswith(\".geo.json\") or filename.endswith(\".geojson\"):\n",
    "        with (open(f\"{directory}/{filename}\", 'r')) as geojson_file:\n",
    "            regions[filename] = shape(json.load(geojson_file)[\"geometry\"])"
   ]
  },
  {
   "cell_type": "code",
   "execution_count": null,
   "metadata": {},
   "outputs": [],
   "source": [
    "results = {} # results will be put here as results[<filename>][<data>]\n",
    "\n",
    "def run_method(filename, region):\n",
    "    results[filename] = TEMISTropomiMonthlyMeanNOxEmissionCalculator().run(region, DateRange(start='2018-08-01', end='2018-08-31'), Pollutant.NOx)\n",
    "    print(f\"Done with region represented by file '{filename}'\")\n",
    "\n",
    "with concurrent.futures.ThreadPoolExecutor() as executor:\n",
    "    for filename, region in regions.items():\n",
    "        executor.submit(run_method, filename, region)"
   ]
  },
  {
   "cell_type": "code",
   "execution_count": null,
   "metadata": {},
   "outputs": [],
   "source": [
    "for filename in regions:\n",
    "    print(f\"Total emissions in region {filename}: {results[filename][TEMISTropomiMonthlyMeanNOxEmissionCalculator.TOTAL_EMISSIONS_KEY]/10**6:.2f}kt\")"
   ]
  },
  {
   "cell_type": "code",
   "execution_count": null,
   "metadata": {},
   "outputs": [],
   "source": [
    "for filename in regions:\n",
    "    gridded_result = results[filename][TEMISTropomiMonthlyMeanNOxEmissionCalculator.GRIDDED_EMISSIONS_KEY]\n",
    "    gridded_result.plot(\"total emissions [kg]\", figsize=(20, 20), legend=True, legend_kwds={'label': f\"Emissions in {filename} [kg]\", 'orientation': \"horizontal\"})"
   ]
  },
  {
   "cell_type": "code",
   "execution_count": null,
   "metadata": {},
   "outputs": [],
   "source": [
    "for filename in regions:\n",
    "    gridded_result = results[filename][TEMISTropomiMonthlyMeanNOxEmissionCalculator.GRIDDED_EMISSIONS_KEY]\n",
    "    ctx.add_basemap(gridded_result.to_crs(epsg=3857).plot(\"total emissions [kg]\", figsize=(20, 20), alpha=0.7, edgecolor='k'))"
   ]
  }
 ],
 "metadata": {
  "kernelspec": {
   "display_name": "Python 3",
   "language": "python",
   "name": "python3"
  },
  "language_info": {
   "codemirror_mode": {
    "name": "ipython",
    "version": 3
   },
   "file_extension": ".py",
   "mimetype": "text/x-python",
   "name": "python",
   "nbconvert_exporter": "python",
   "pygments_lexer": "ipython3",
   "version": "3.8.5"
  }
 },
 "nbformat": 4,
 "nbformat_minor": 4
}
