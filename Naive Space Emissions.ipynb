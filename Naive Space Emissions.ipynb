{
 "cells": [
  {
   "cell_type": "code",
   "execution_count": null,
   "metadata": {},
   "outputs": [],
   "source": [
    "# Requirements for this notebook to run: pandas, geopandas, shapely, pyproj\n",
    "import time\n",
    "import json\n",
    "\n",
    "import pandas\n",
    "from shapely.geometry import shape\n",
    "\n",
    "from eocalc.context import Pollutant\n",
    "from eocalc.methods.base import DateRange\n",
    "from eocalc.methods.temis import TEMISTropomiMonthlyMeanNOxEmissionCalculator"
   ]
  },
  {
   "cell_type": "code",
   "execution_count": null,
   "metadata": {},
   "outputs": [],
   "source": [
    "with (open(\"data/regions/roughly_saxonia.geo.json\", 'r')) as geojson_file:\n",
    "    region = shape(json.load(geojson_file)[\"geometry\"])\n",
    "    \n",
    "results = TEMISTropomiMonthlyMeanNOxEmissionCalculator().run(\n",
    "            region, DateRange(start='2020-01-01', end='2020-12-31'), Pollutant.NOx)"
   ]
  },
  {
   "cell_type": "code",
   "execution_count": null,
   "metadata": {},
   "outputs": [],
   "source": [
    "results"
   ]
  },
  {
   "cell_type": "code",
   "execution_count": null,
   "metadata": {},
   "outputs": [],
   "source": [
    "results[TEMISTropomiMonthlyMeanNOxEmissionCalculator.TOTAL_EMISSIONS_KEY]"
   ]
  },
  {
   "cell_type": "code",
   "execution_count": null,
   "metadata": {},
   "outputs": [],
   "source": [
    "results[TEMISTropomiMonthlyMeanNOxEmissionCalculator.GRIDDED_EMISSIONS_KEY]"
   ]
  }
 ],
 "metadata": {
  "kernelspec": {
   "display_name": "Python 3",
   "language": "python",
   "name": "python3"
  },
  "language_info": {
   "codemirror_mode": {
    "name": "ipython",
    "version": 3
   },
   "file_extension": ".py",
   "mimetype": "text/x-python",
   "name": "python",
   "nbconvert_exporter": "python",
   "pygments_lexer": "ipython3",
   "version": "3.8.5"
  }
 },
 "nbformat": 4,
 "nbformat_minor": 4
}
