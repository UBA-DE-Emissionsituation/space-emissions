{
 "cells": [
  {
   "cell_type": "code",
   "execution_count": null,
   "metadata": {},
   "outputs": [],
   "source": [
    "# Requirements for this notebook to run: pandas, geopandas, shapely, pyproj\n",
    "from datetime import datetime\n",
    "from dateutil.relativedelta import relativedelta\n",
    "import json\n",
    "\n",
    "import pandas\n",
    "from shapely.geometry import shape\n",
    "\n",
    "from eocalc.context import Pollutant\n",
    "from eocalc.methods.base import DateRange\n",
    "from eocalc.methods.naive import TropomiMonthlyMeanAggregator"
   ]
  },
  {
   "cell_type": "code",
   "execution_count": null,
   "metadata": {},
   "outputs": [],
   "source": [
    "# Select region\n",
    "region_name = \"Saxony\"\n",
    "with open(\"data/regions/roughly_saxonia.geo.json\", 'r') as geojson_file:\n",
    "    region = shape(json.load(geojson_file)[\"geometry\"])\n",
    "\n",
    "# Select dates\n",
    "periods = []\n",
    "start = TropomiMonthlyMeanAggregator.earliest_start_date()\n",
    "if start.day != 1:\n",
    "    start = (start + relativedelta(months=1)).replace(day=1)\n",
    "\n",
    "while start < TropomiMonthlyMeanAggregator.latest_end_date():\n",
    "    periods += [DateRange(start, start + relativedelta(months=1) - relativedelta(days=1))]\n",
    "    start += relativedelta(months=1)\n",
    "\n",
    "# Select pollutant\n",
    "pollutant = Pollutant.NO2"
   ]
  },
  {
   "cell_type": "code",
   "execution_count": null,
   "metadata": {},
   "outputs": [],
   "source": [
    "results = {} # results will be put here as results[<period index>][<data>]\n",
    "start = datetime.now()\n",
    "\n",
    "for index, period in enumerate(periods):\n",
    "    results[index] = TropomiMonthlyMeanAggregator().run(region, period, pollutant)\n",
    "    print(f\"Done with period '{period}'\")\n",
    "\n",
    "print(f\"All finished in {datetime.now()-start}.\")"
   ]
  },
  {
   "cell_type": "code",
   "execution_count": null,
   "metadata": {},
   "outputs": [],
   "source": [
    "emissions_over_time = pandas.DataFrame({f\"{pollutant.name} emissions [kt]\": 42.0}, index=[f\"{period.start:%Y-%m}\" for period in periods])\n",
    "\n",
    "for index, result in results.items():\n",
    "    table = result[TropomiMonthlyMeanAggregator.TOTAL_EMISSIONS_KEY]\n",
    "    emissions_over_time[f\"{pollutant.name} emissions [kt]\"][f\"{periods[index].start:%Y-%m}\"] = table.iloc[-1, 0]\n",
    "    # print(f\"Total emissions for {region_name} in period {periods[index]}: {table.iloc[-1, 0]:.2f}kt {pollutant.name} (±{table.iloc[-1, 1]:.1f}%)\")\n",
    "\n",
    "emissions_over_time.plot.line(figsize=(20, 10), rot=90)"
   ]
  },
  {
   "cell_type": "code",
   "execution_count": null,
   "metadata": {},
   "outputs": [],
   "source": [
    "from IPython.display import HTML\n",
    "import matplotlib.pyplot as plt\n",
    "import matplotlib.animation\n",
    "import contextily as ctx\n",
    "\n",
    "fig, ax = plt.subplots(figsize=(10, 10))\n",
    "\n",
    "def animate(frame_number):\n",
    "    ax.clear()\n",
    "    ax.set_title(f\"{periods[frame_number].start:%Y-%m}\")\n",
    "    data = results[frame_number][TropomiMonthlyMeanAggregator.GRIDDED_EMISSIONS_KEY]\n",
    "    ctx.add_basemap(data.to_crs(epsg=3857).plot(f\"Total {Pollutant.NO2.name} emissions [kg]\", ax=ax, alpha=0.7, edgecolor='k'))\n",
    "\n",
    "slideshow = animation.FuncAnimation(fig, animate, frames=len(periods), interval=300, repeat=True, blit=False)\n",
    "plt.close()  # Prevent extra plot output below animation\n",
    "\n",
    "HTML(slideshow.to_jshtml())"
   ]
  }
 ],
 "metadata": {
  "kernelspec": {
   "display_name": "Python 3",
   "language": "python",
   "name": "python3"
  },
  "language_info": {
   "codemirror_mode": {
    "name": "ipython",
    "version": 3
   },
   "file_extension": ".py",
   "mimetype": "text/x-python",
   "name": "python",
   "nbconvert_exporter": "python",
   "pygments_lexer": "ipython3",
   "version": "3.7.6"
  }
 },
 "nbformat": 4,
 "nbformat_minor": 4
}
