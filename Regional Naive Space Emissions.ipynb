{
 "cells": [
  {
   "cell_type": "code",
   "execution_count": null,
   "metadata": {},
   "outputs": [],
   "source": [
    "# Requirements for this notebook to run: pandas, geopandas, shapely, pyproj\n",
    "import concurrent.futures\n",
    "import os\n",
    "from datetime import datetime\n",
    "import time\n",
    "import json\n",
    "\n",
    "import pandas\n",
    "from pandas import Series\n",
    "import geopandas\n",
    "from shapely.geometry import shape\n",
    "import contextily as ctx\n",
    "\n",
    "from eocalc.context import Pollutant\n",
    "from eocalc.methods.base import DateRange\n",
    "from eocalc.methods.temis import TropomiMonthlyMeanAggregator"
   ]
  },
  {
   "cell_type": "code",
   "execution_count": null,
   "metadata": {},
   "outputs": [],
   "source": [
    "directory = \"data/regions\"\n",
    "regions = {}\n",
    "\n",
    "for filename in os.listdir(directory):\n",
    "    if filename.endswith(\".geo.json\") or filename.endswith(\".geojson\"):\n",
    "        with open(f\"{directory}/{filename}\", 'r') as geojson_file:\n",
    "            regions[filename] = shape(json.load(geojson_file)[\"geometry\"])\n",
    "\n",
    "del regions[\"europe.geo.json\"] # This takes too long...\n",
    "\n",
    "# Remove regions not covered\n",
    "remove = [filename for filename, region in regions.items() if not TropomiMonthlyMeanAggregator().covers(region)]\n",
    "for filename in remove: del regions[filename]\n",
    "\n",
    "regions"
   ]
  },
  {
   "cell_type": "code",
   "execution_count": null,
   "metadata": {},
   "outputs": [],
   "source": [
    "results = {} # results will be put here as results[<filename>][<data>]\n",
    "start = datetime.now()\n",
    "\n",
    "for filename, region in regions.items():\n",
    "    results[filename] = TropomiMonthlyMeanAggregator().run(region, DateRange(start='2018-08-01', end='2018-08-31'), Pollutant.NO2)\n",
    "    print(f\"Done with region represented by file '{filename}'\")\n",
    "\n",
    "print(f\"All finished in {datetime.now()-start}.\")"
   ]
  },
  {
   "cell_type": "code",
   "execution_count": null,
   "metadata": {},
   "outputs": [],
   "source": [
    "for filename in regions:\n",
    "    table = results[filename][TropomiMonthlyMeanAggregator.TOTAL_EMISSIONS_KEY]\n",
    "    print(f\"Total emissions in region {filename}: {table.iloc[-1, 0]:.2f}kt {Pollutant.NO2.name} (±{table.iloc[-1, 1]:.1f}%)\")"
   ]
  },
  {
   "cell_type": "code",
   "execution_count": null,
   "metadata": {},
   "outputs": [],
   "source": [
    "for filename in regions:\n",
    "    gridded_result = results[filename][TropomiMonthlyMeanAggregator.GRIDDED_EMISSIONS_KEY]\n",
    "    gridded_result.plot(f\"Total {Pollutant.NO2.name} emissions [kg]\", figsize=(20, 20), legend=True, legend_kwds={'label': f\"Emissions in {filename} [kg]\", 'orientation': \"horizontal\"})"
   ]
  },
  {
   "cell_type": "code",
   "execution_count": null,
   "metadata": {},
   "outputs": [],
   "source": [
    "for filename in regions:\n",
    "    gridded_result = results[filename][TropomiMonthlyMeanAggregator.GRIDDED_EMISSIONS_KEY]\n",
    "    ctx.add_basemap(gridded_result.to_crs(epsg=3857).plot(f\"Total {Pollutant.NO2.name} emissions [kg]\", figsize=(20, 20), alpha=0.7, edgecolor='k'))"
   ]
  }
 ],
 "metadata": {
  "kernelspec": {
   "display_name": "Python 3",
   "language": "python",
   "name": "python3"
  },
  "language_info": {
   "codemirror_mode": {
    "name": "ipython",
    "version": 3
   },
   "file_extension": ".py",
   "mimetype": "text/x-python",
   "name": "python",
   "nbconvert_exporter": "python",
   "pygments_lexer": "ipython3",
   "version": "3.7.6"
  }
 },
 "nbformat": 4,
 "nbformat_minor": 4
}
